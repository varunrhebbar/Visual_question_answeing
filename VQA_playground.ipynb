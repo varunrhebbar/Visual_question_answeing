{
 "cells": [
  {
   "cell_type": "code",
   "execution_count": null,
   "metadata": {
    "colab": {
     "base_uri": "https://localhost:8080/"
    },
    "id": "tYOfkhxlEdPI",
    "outputId": "67ffa41f-ddad-4f4b-af5f-bbbe0aaf1f70"
   },
   "outputs": [],
   "source": [
    "# Upgrade pillow to latest version (solves a colab Issue) :\n",
    "!pip install pillow==4.1.1\n"
   ]
  },
  {
   "cell_type": "code",
   "execution_count": 1,
   "metadata": {},
   "outputs": [
    {
     "name": "stdout",
     "output_type": "stream",
     "text": [
      "Requirement already satisfied: wget in c:\\programdata\\anaconda3\\lib\\site-packages (3.2)\n"
     ]
    }
   ],
   "source": [
    "!pip install wget"
   ]
  },
  {
   "cell_type": "code",
   "execution_count": 2,
   "metadata": {
    "id": "xm4P5BAFEdPK"
   },
   "outputs": [],
   "source": [
    "import os, sys\n",
    "\n",
    "from matplotlib import pyplot as plt\n",
    "\n",
    "import warnings\n",
    "warnings.filterwarnings(\"ignore\", category=UserWarning) # Cleaner demos : Don't do this normally..."
   ]
  },
  {
   "cell_type": "markdown",
   "metadata": {
    "id": "PLr9H6HXEdPK"
   },
   "source": [
    "### Download the Prebuilt VQA model and Weights"
   ]
  },
  {
   "cell_type": "code",
   "execution_count": 3,
   "metadata": {
    "id": "cagvKpZsEdPL"
   },
   "outputs": [],
   "source": [
    "if not os.path.isfile('./pytorch-vqa/README.md'):\n",
    "    !git clone https://github.com/Cyanogenoid/pytorch-vqa.git\n",
    "sys.path.append(os.path.realpath('./pytorch-vqa'))"
   ]
  },
  {
   "cell_type": "code",
   "execution_count": 4,
   "metadata": {
    "id": "gp2OBIYdEdPL",
    "scrolled": true
   },
   "outputs": [],
   "source": [
    "# https://github.com/Cyanogenoid/pytorch-vqa/releases\n",
    "\n",
    "if not os.path.isfile('./2017-08-04_00.55.19.pth'):   # 81Mb model\n",
    "    !wget https://github.com/Cyanogenoid/pytorch-vqa/releases/download/v1.0/2017-08-04_00.55.19.pth"
   ]
  },
  {
   "cell_type": "code",
   "execution_count": 5,
   "metadata": {
    "id": "bUvK2VIIEdPM"
   },
   "outputs": [],
   "source": [
    "try: \n",
    "    import torch\n",
    "except:\n",
    "    from wheel.pep425tags import get_abbr_impl, get_impl_ver, get_abi_tag\n",
    "    platform = '{}{}-{}'.format(get_abbr_impl(), get_impl_ver(), get_abi_tag())\n",
    "    accelerator = 'cu80' if os.path.exists('/opt/bin/nvidia-smi') else 'cpu'\n",
    "    !pip install -q \\\n",
    "      http://download.pytorch.org/whl/{accelerator}/torch-0.4.1-{platform}-linux_x86_64.whl \\\n",
    "      torchvision"
   ]
  },
  {
   "cell_type": "code",
   "execution_count": 6,
   "metadata": {
    "id": "JLKxMtSZEdPN",
    "scrolled": true
   },
   "outputs": [],
   "source": [
    "import torch\n",
    "\n",
    "use_cuda = torch.cuda.is_available()\n",
    "device = torch.device(\"cuda\" if use_cuda else \"cpu\")"
   ]
  },
  {
   "cell_type": "code",
   "execution_count": 7,
   "metadata": {
    "colab": {
     "base_uri": "https://localhost:8080/"
    },
    "id": "Qe3kLI7VEdPO",
    "outputId": "b74d120e-83a8-41f5-c442-54098dae4be8"
   },
   "outputs": [
    {
     "data": {
      "text/plain": [
       "dict_keys(['name', 'tracker', 'config', 'weights', 'eval', 'vocab'])"
      ]
     },
     "execution_count": 7,
     "metadata": {},
     "output_type": "execute_result"
    }
   ],
   "source": [
    "import model # from pytorch-vqa\n",
    "\n",
    "#saved_state = torch.load('logs/2017-08-04_00:55:19.pth')\n",
    "saved_state = torch.load('./2017-08-04_00.55.19.pth', map_location=device)\n",
    "tokens = len(saved_state['vocab']['question']) + 1\n",
    "\n",
    "saved_state.keys()  # See what's in the saved state"
   ]
  },
  {
   "cell_type": "code",
   "execution_count": 8,
   "metadata": {
    "colab": {
     "base_uri": "https://localhost:8080/"
    },
    "id": "G6ajPSXIEdPP",
    "outputId": "484df604-fb0d-47e3-8d1f-eb513dcf84e6",
    "scrolled": false
   },
   "outputs": [
    {
     "data": {
      "text/plain": [
       "DataParallel(\n",
       "  (module): Net(\n",
       "    (text): TextProcessor(\n",
       "      (embedding): Embedding(15193, 300, padding_idx=0)\n",
       "      (drop): Dropout(p=0.5, inplace=False)\n",
       "      (tanh): Tanh()\n",
       "      (lstm): LSTM(300, 1024)\n",
       "    )\n",
       "    (attention): Attention(\n",
       "      (v_conv): Conv2d(2048, 512, kernel_size=(1, 1), stride=(1, 1), bias=False)\n",
       "      (q_lin): Linear(in_features=1024, out_features=512, bias=True)\n",
       "      (x_conv): Conv2d(512, 2, kernel_size=(1, 1), stride=(1, 1))\n",
       "      (drop): Dropout(p=0.5, inplace=False)\n",
       "      (relu): ReLU(inplace=True)\n",
       "    )\n",
       "    (classifier): Classifier(\n",
       "      (drop1): Dropout(p=0.5, inplace=False)\n",
       "      (lin1): Linear(in_features=5120, out_features=1024, bias=True)\n",
       "      (relu): ReLU()\n",
       "      (drop2): Dropout(p=0.5, inplace=False)\n",
       "      (lin2): Linear(in_features=1024, out_features=3000, bias=True)\n",
       "    )\n",
       "  )\n",
       ")"
      ]
     },
     "execution_count": 8,
     "metadata": {},
     "output_type": "execute_result"
    }
   ],
   "source": [
    "# Load the predefined model\n",
    "vqa_net = torch.nn.DataParallel(model.Net(tokens))\n",
    "vqa_net.load_state_dict(saved_state['weights'])\n",
    "vqa_net.to(device)\n",
    "vqa_net.eval()"
   ]
  },
  {
   "cell_type": "markdown",
   "metadata": {
    "id": "zUjE3gQ5EdPP"
   },
   "source": [
    "### Now get the Correct Image feature network"
   ]
  },
  {
   "cell_type": "code",
   "execution_count": 9,
   "metadata": {
    "id": "dgcw9EU4EdPP",
    "scrolled": true
   },
   "outputs": [],
   "source": [
    "if not os.path.isfile('./pytorch-resnet/README.md'):\n",
    "    !git clone https://github.com/Cyanogenoid/pytorch-resnet.git\n",
    "sys.path.append(os.path.realpath('./pytorch-resnet'))"
   ]
  },
  {
   "cell_type": "code",
   "execution_count": 10,
   "metadata": {
    "id": "3nr3ZHOAEdPQ",
    "scrolled": true
   },
   "outputs": [
    {
     "ename": "ModuleNotFoundError",
     "evalue": "No module named 'keras.applications.resnet50'",
     "output_type": "error",
     "traceback": [
      "\u001b[1;31m---------------------------------------------------------------------------\u001b[0m",
      "\u001b[1;31mModuleNotFoundError\u001b[0m                       Traceback (most recent call last)",
      "\u001b[1;32m~\\AppData\\Local\\Temp/ipykernel_9996/2590695759.py\u001b[0m in \u001b[0;36m<module>\u001b[1;34m\u001b[0m\n\u001b[0;32m      1\u001b[0m \u001b[1;32mimport\u001b[0m \u001b[0mkeras\u001b[0m\u001b[1;33m\u001b[0m\u001b[1;33m\u001b[0m\u001b[0m\n\u001b[1;32m----> 2\u001b[1;33m \u001b[1;32mimport\u001b[0m \u001b[0mresnet\u001b[0m  \u001b[1;31m# from pytorch-resnet\u001b[0m\u001b[1;33m\u001b[0m\u001b[1;33m\u001b[0m\u001b[0m\n\u001b[0m\u001b[0;32m      3\u001b[0m \u001b[1;32mfrom\u001b[0m \u001b[0mkeras\u001b[0m\u001b[1;33m.\u001b[0m\u001b[0mapplications\u001b[0m\u001b[1;33m.\u001b[0m\u001b[0mresnet\u001b[0m \u001b[1;32mimport\u001b[0m \u001b[0mResNet50\u001b[0m\u001b[1;33m\u001b[0m\u001b[1;33m\u001b[0m\u001b[0m\n\u001b[0;32m      4\u001b[0m \u001b[1;33m\u001b[0m\u001b[0m\n\u001b[0;32m      5\u001b[0m \u001b[1;32mimport\u001b[0m \u001b[0mtorchvision\u001b[0m\u001b[1;33m.\u001b[0m\u001b[0mtransforms\u001b[0m \u001b[1;32mas\u001b[0m \u001b[0mtransforms\u001b[0m\u001b[1;33m\u001b[0m\u001b[1;33m\u001b[0m\u001b[0m\n",
      "\u001b[1;32mC:\\ProgramData\\Anaconda3\\lib\\site-packages\\resnet\\__init__.py\u001b[0m in \u001b[0;36m<module>\u001b[1;34m\u001b[0m\n\u001b[1;32m----> 1\u001b[1;33m \u001b[1;32mfrom\u001b[0m \u001b[0mkeras\u001b[0m\u001b[1;33m.\u001b[0m\u001b[0mapplications\u001b[0m\u001b[1;33m.\u001b[0m\u001b[0mresnet50\u001b[0m \u001b[1;32mimport\u001b[0m \u001b[0mResNet50\u001b[0m\u001b[1;33m\u001b[0m\u001b[1;33m\u001b[0m\u001b[0m\n\u001b[0m\u001b[0;32m      2\u001b[0m \u001b[1;32mfrom\u001b[0m \u001b[1;33m.\u001b[0m\u001b[0mresnet152\u001b[0m \u001b[1;32mimport\u001b[0m \u001b[0mResNet152\u001b[0m\u001b[1;33m\u001b[0m\u001b[1;33m\u001b[0m\u001b[0m\n\u001b[0;32m      3\u001b[0m \u001b[1;32mfrom\u001b[0m \u001b[1;33m.\u001b[0m\u001b[0mresnet101\u001b[0m \u001b[1;32mimport\u001b[0m \u001b[0mResNet101\u001b[0m\u001b[1;33m\u001b[0m\u001b[1;33m\u001b[0m\u001b[0m\n",
      "\u001b[1;31mModuleNotFoundError\u001b[0m: No module named 'keras.applications.resnet50'"
     ]
    }
   ],
   "source": [
    "import keras\n",
    "import resnet  # from pytorch-resnet\n",
    "from keras.applications.resnet import ResNet50\n",
    "\n",
    "import torchvision.transforms as transforms\n",
    "from PIL import Image\n",
    "\n",
    "def get_transform(target_size, central_fraction=1.0):\n",
    "    return transforms.Compose([\n",
    "        transforms.Scale(int(target_size / central_fraction)),\n",
    "        transforms.CenterCrop(target_size),\n",
    "        transforms.ToTensor(),\n",
    "        transforms.Normalize(mean=[0.485, 0.456, 0.406],\n",
    "                             std=[0.229, 0.224, 0.225]),\n",
    "    ])\n",
    "\n",
    "class ResNetLayer4(torch.nn.Module):\n",
    "    def __init__(self):\n",
    "        super(ResNetLayer4, self).__init__()\n",
    "        self.model = resnet.resnet152(pretrained=True)\n",
    "        \n",
    "        # from  visual_qa_analysis/config.py\n",
    "        image_size = 448  # scale shorter end of image to this size and centre crop\n",
    "        #output_size = image_size // 32  # size of the feature maps after processing through a network\n",
    "        output_features = 2048  # number of feature maps thereof\n",
    "        central_fraction = 0.875 # only take this much of the centre when scaling and centre cropping\n",
    "\n",
    "        self.transform = get_transform(image_size, central_fraction)\n",
    "\n",
    "        def save_output(module, input, output):\n",
    "            self.buffer = output\n",
    "        self.model.layer4.register_forward_hook(save_output)\n",
    "\n",
    "    def forward(self, x):\n",
    "        self.model(x)\n",
    "        return self.buffer\n",
    "    \n",
    "    def image_to_features(self, img_file):\n",
    "        img = Image.open(img_file).convert('RGB')\n",
    "        img_transformed = self.transform(img)\n",
    "        #print(img_transformed.size())\n",
    "        img_batch = img_transformed.unsqueeze(0).to(device)\n",
    "        return self.forward(img_batch) \n",
    "    \n",
    "resnet_layer4 = ResNetLayer4().to(device)  # Downloads 241Mb model when first run\n",
    "print('done')"
   ]
  },
  {
   "cell_type": "code",
   "execution_count": null,
   "metadata": {},
   "outputs": [],
   "source": [
    "!pip install image-classifiers"
   ]
  },
  {
   "cell_type": "code",
   "execution_count": null,
   "metadata": {},
   "outputs": [],
   "source": [
    "!pip install --upgarde torchvision "
   ]
  },
  {
   "cell_type": "code",
   "execution_count": null,
   "metadata": {
    "colab": {
     "base_uri": "https://localhost:8080/"
    },
    "id": "f7-LN9ZtEdPR",
    "outputId": "bba6ee0b-77a6-46e4-c879-d938566d4ea4"
   },
   "outputs": [],
   "source": [
    "# Sample images : \n",
    "image_urls, image_path, image_files = [\n",
    "    'https://www.pets4homes.co.uk/images/articles/2709/large/tabby-cat-colour-and-pattern-genetics-5516c44dbd383.jpg',\n",
    "    'https://imgc.allpostersimages.com/img/print/posters/cat-black-jumping-off-wall_a-G-12469828-14258383.jpg',\n",
    "    'https://i.ytimg.com/vi/AIwlyly7Eso/hqdefault.jpg',\n",
    "    'https://upload.wikimedia.org/wikipedia/commons/9/9b/Black_pussy_-_panoramio.jpg',\n",
    "    'https://www.thehappycatsite.com/wp-content/uploads/2017/06/siamese5.jpg',\n",
    "    'https://c.pxhere.com/photos/15/e5/cat_roof_home_architecture_building_roofs_animal_sit-536976.jpg!d',\n",
    "    'http://kitticats.com/wp-content/uploads/2015/05/cat4.jpg',\n",
    "], './img/', []\n",
    "os.makedirs('./img', exist_ok=True)\n",
    "for url in image_urls:\n",
    "    image_file=os.path.join(image_path, os.path.basename(url))\n",
    "    image_files.append(image_file)\n",
    "    if not os.path.isfile(image_file):\n",
    "        !wget {url} --directory-prefix ./img/\n",
    "image_files"
   ]
  },
  {
   "cell_type": "code",
   "execution_count": null,
   "metadata": {
    "id": "q8H6ZrxQEdPR",
    "scrolled": true
   },
   "outputs": [],
   "source": [
    "#v = resnet_layer4.image_to_features('/content/img/Black_pussy_-_panoramio.jpg')\n",
    "#v.size()"
   ]
  },
  {
   "cell_type": "markdown",
   "metadata": {
    "id": "4WTqCq6REdPR"
   },
   "source": [
    "### Have a look at how the vocab is built"
   ]
  },
  {
   "cell_type": "code",
   "execution_count": 11,
   "metadata": {
    "colab": {
     "base_uri": "https://localhost:8080/"
    },
    "id": "cfhRK7lfEdPS",
    "outputId": "694cbecb-f291-4ca9-c7a7-f308863d034c",
    "scrolled": true
   },
   "outputs": [
    {
     "data": {
      "text/plain": [
       "[('the', 1), ('is', 2), ('what', 3), ('are', 4), ('this', 5)]"
      ]
     },
     "execution_count": 11,
     "metadata": {},
     "output_type": "execute_result"
    }
   ],
   "source": [
    "vocab = saved_state['vocab']\n",
    "vocab.keys()  # dict_keys(['question', 'answer'])\n",
    "list(vocab['question'].items())[:5]  # [('the', 1), ('is', 2), ('what', 3), ('are', 4), ('this', 5)]"
   ]
  },
  {
   "cell_type": "code",
   "execution_count": 12,
   "metadata": {
    "id": "M304UZBdEdPS"
   },
   "outputs": [],
   "source": [
    "qtoken_to_index = vocab['question']\n",
    "QUESTION_LENGTH_MAX = 30 # say...\n",
    "    \n",
    "def encode_question(question_str):\n",
    "    \"\"\" Turn a question into a vector of indices and a question length \"\"\"\n",
    "    question_arr = question_str.lower().split(' ')\n",
    "    #vec = torch.zeros(QUESTION_LENGTH_MAX).long()\n",
    "    vec = torch.zeros(len(question_arr)).long()  \n",
    "    for i, token in enumerate(question_arr):\n",
    "        vec[i] = qtoken_to_index.get(token, 0)\n",
    "    return vec.to(device), torch.tensor( len(question_arr) ).to(device)"
   ]
  },
  {
   "cell_type": "code",
   "execution_count": 13,
   "metadata": {
    "colab": {
     "base_uri": "https://localhost:8080/"
    },
    "id": "EzN8EiWTEdPS",
    "outputId": "2666a18d-5b9a-4967-b450-836fda45a589"
   },
   "outputs": [
    {
     "data": {
      "text/plain": [
       "[('yes', 0), ('no', 1), ('2', 2), ('1', 3), ('white', 4)]"
      ]
     },
     "execution_count": 13,
     "metadata": {},
     "output_type": "execute_result"
    }
   ],
   "source": [
    "list(vocab['answer'].items())[:5]    # [('yes', 0), ('no', 1), ('2', 2), ('1', 3), ('white', 4)]"
   ]
  },
  {
   "cell_type": "code",
   "execution_count": 14,
   "metadata": {
    "colab": {
     "base_uri": "https://localhost:8080/"
    },
    "id": "lAa-AVUTEdPS",
    "outputId": "5e320a86-bd45-4d4d-b2bc-0338e0b49024"
   },
   "outputs": [
    {
     "data": {
      "text/plain": [
       "(3000, ['yes', 'no', '2', '1', 'white', '3', 'red', 'blue', '4', 'green'])"
      ]
     },
     "execution_count": 14,
     "metadata": {},
     "output_type": "execute_result"
    }
   ],
   "source": [
    "answer_words = ['UNDEF'] * len(vocab['answer'])\n",
    "for w,idx in vocab['answer'].items():\n",
    "    answer_words[idx]=w\n",
    "len(answer_words), answer_words[:10]  # 3000, ['yes', 'no', '2', '1', 'white', '3', 'red', 'blue', '4', 'green']"
   ]
  },
  {
   "cell_type": "code",
   "execution_count": 15,
   "metadata": {
    "colab": {
     "base_uri": "https://localhost:8080/"
    },
    "id": "ULJqqhiTEdPT",
    "outputId": "c22c9a16-a3c6-49a0-a369-01ac45ec09d8"
   },
   "outputs": [
    {
     "data": {
      "text/plain": [
       "(False, True, True)"
      ]
     },
     "execution_count": 15,
     "metadata": {},
     "output_type": "execute_result"
    }
   ],
   "source": [
    "# Important things to know...\n",
    "'colour' in qtoken_to_index, 'color' in qtoken_to_index, 'tabby' in answer_words"
   ]
  },
  {
   "cell_type": "code",
   "execution_count": null,
   "metadata": {
    "id": "grKf2VKpPz0A"
   },
   "outputs": [],
   "source": []
  },
  {
   "cell_type": "markdown",
   "metadata": {
    "id": "BMEq37zyEdPT"
   },
   "source": [
    "### Let's test a single Image"
   ]
  },
  {
   "cell_type": "code",
   "execution_count": 16,
   "metadata": {
    "colab": {
     "base_uri": "https://localhost:8080/",
     "height": 286
    },
    "id": "9WglE7EsEdPT",
    "outputId": "defb0bcb-9e0d-46b6-e16d-4b7a9c62853e"
   },
   "outputs": [
    {
     "ename": "NameError",
     "evalue": "name 'image_files' is not defined",
     "output_type": "error",
     "traceback": [
      "\u001b[1;31m---------------------------------------------------------------------------\u001b[0m",
      "\u001b[1;31mNameError\u001b[0m                                 Traceback (most recent call last)",
      "\u001b[1;32m~\\AppData\\Local\\Temp/ipykernel_9996/3465447831.py\u001b[0m in \u001b[0;36m<module>\u001b[1;34m\u001b[0m\n\u001b[0;32m      1\u001b[0m \u001b[0mimage_idx\u001b[0m \u001b[1;33m=\u001b[0m \u001b[1;36m1\u001b[0m\u001b[1;33m\u001b[0m\u001b[1;33m\u001b[0m\u001b[0m\n\u001b[1;32m----> 2\u001b[1;33m \u001b[0mimage_filename\u001b[0m \u001b[1;33m=\u001b[0m \u001b[0mimage_files\u001b[0m\u001b[1;33m[\u001b[0m\u001b[0mimage_idx\u001b[0m\u001b[1;33m]\u001b[0m\u001b[1;33m\u001b[0m\u001b[1;33m\u001b[0m\u001b[0m\n\u001b[0m\u001b[0;32m      3\u001b[0m \u001b[1;33m\u001b[0m\u001b[0m\n\u001b[0;32m      4\u001b[0m \u001b[0mimg\u001b[0m \u001b[1;33m=\u001b[0m \u001b[0mImage\u001b[0m\u001b[1;33m.\u001b[0m\u001b[0mopen\u001b[0m\u001b[1;33m(\u001b[0m\u001b[0mimage_filename\u001b[0m\u001b[1;33m)\u001b[0m\u001b[1;33m.\u001b[0m\u001b[0mconvert\u001b[0m\u001b[1;33m(\u001b[0m\u001b[1;34m'RGB'\u001b[0m\u001b[1;33m)\u001b[0m\u001b[1;33m\u001b[0m\u001b[1;33m\u001b[0m\u001b[0m\n\u001b[0;32m      5\u001b[0m \u001b[0mplt\u001b[0m\u001b[1;33m.\u001b[0m\u001b[0mimshow\u001b[0m\u001b[1;33m(\u001b[0m\u001b[0mimg\u001b[0m\u001b[1;33m)\u001b[0m\u001b[1;33m\u001b[0m\u001b[1;33m\u001b[0m\u001b[0m\n",
      "\u001b[1;31mNameError\u001b[0m: name 'image_files' is not defined"
     ]
    }
   ],
   "source": [
    "image_idx = 1\n",
    "image_filename = image_files[image_idx]\n",
    "\n",
    "img = Image.open(image_filename).convert('RGB')\n",
    "plt.imshow(img)"
   ]
  },
  {
   "cell_type": "code",
   "execution_count": 17,
   "metadata": {
    "id": "PQwghObSEdPT"
   },
   "outputs": [
    {
     "ename": "NameError",
     "evalue": "name 'resnet_layer4' is not defined",
     "output_type": "error",
     "traceback": [
      "\u001b[1;31m---------------------------------------------------------------------------\u001b[0m",
      "\u001b[1;31mNameError\u001b[0m                                 Traceback (most recent call last)",
      "\u001b[1;32m~\\AppData\\Local\\Temp/ipykernel_9996/1928950280.py\u001b[0m in \u001b[0;36m<module>\u001b[1;34m\u001b[0m\n\u001b[1;32m----> 1\u001b[1;33m \u001b[0mv0\u001b[0m \u001b[1;33m=\u001b[0m \u001b[0mresnet_layer4\u001b[0m\u001b[1;33m.\u001b[0m\u001b[0mimage_to_features\u001b[0m\u001b[1;33m(\u001b[0m\u001b[0mimage_filename\u001b[0m\u001b[1;33m)\u001b[0m\u001b[1;33m\u001b[0m\u001b[1;33m\u001b[0m\u001b[0m\n\u001b[0m",
      "\u001b[1;31mNameError\u001b[0m: name 'resnet_layer4' is not defined"
     ]
    }
   ],
   "source": [
    "v0 = resnet_layer4.image_to_features(image_filename)"
   ]
  },
  {
   "cell_type": "code",
   "execution_count": 18,
   "metadata": {
    "colab": {
     "base_uri": "https://localhost:8080/"
    },
    "id": "C3zxnzKKEdPU",
    "outputId": "efd760b5-9f5d-4d59-dc73-6c38c10bba79"
   },
   "outputs": [
    {
     "data": {
      "text/plain": [
       "(tensor([ 2, 13,  8, 43,  6,  1, 18]), tensor(7))"
      ]
     },
     "execution_count": 18,
     "metadata": {},
     "output_type": "execute_result"
    }
   ],
   "source": [
    "q, q_len = encode_question(\"is there a cat in the picture\")\n",
    "#q, q_len = encode_question(\"what color is the cat's fur\")\n",
    "#q, q_len = encode_question(\"is the cat jumping up or down\")\n",
    "q, q_len"
   ]
  },
  {
   "cell_type": "code",
   "execution_count": 19,
   "metadata": {
    "colab": {
     "base_uri": "https://localhost:8080/"
    },
    "id": "EEP2d6IMEdPU",
    "outputId": "0f79243e-93c2-41bc-fd6a-a28902595909"
   },
   "outputs": [
    {
     "ename": "NameError",
     "evalue": "name 'v0' is not defined",
     "output_type": "error",
     "traceback": [
      "\u001b[1;31m---------------------------------------------------------------------------\u001b[0m",
      "\u001b[1;31mNameError\u001b[0m                                 Traceback (most recent call last)",
      "\u001b[1;32m~\\AppData\\Local\\Temp/ipykernel_9996/668300741.py\u001b[0m in \u001b[0;36m<module>\u001b[1;34m\u001b[0m\n\u001b[1;32m----> 1\u001b[1;33m \u001b[0mans\u001b[0m \u001b[1;33m=\u001b[0m \u001b[0mvqa_net\u001b[0m\u001b[1;33m(\u001b[0m\u001b[0mv0\u001b[0m\u001b[1;33m,\u001b[0m \u001b[0mq\u001b[0m\u001b[1;33m.\u001b[0m\u001b[0munsqueeze\u001b[0m\u001b[1;33m(\u001b[0m\u001b[1;36m0\u001b[0m\u001b[1;33m)\u001b[0m\u001b[1;33m,\u001b[0m \u001b[0mq_len\u001b[0m\u001b[1;33m.\u001b[0m\u001b[0munsqueeze\u001b[0m\u001b[1;33m(\u001b[0m\u001b[1;36m0\u001b[0m\u001b[1;33m)\u001b[0m\u001b[1;33m)\u001b[0m\u001b[1;33m\u001b[0m\u001b[1;33m\u001b[0m\u001b[0m\n\u001b[0m\u001b[0;32m      2\u001b[0m \u001b[0mans\u001b[0m\u001b[1;33m.\u001b[0m\u001b[0mdata\u001b[0m\u001b[1;33m.\u001b[0m\u001b[0mcpu\u001b[0m\u001b[1;33m(\u001b[0m\u001b[1;33m)\u001b[0m\u001b[1;33m[\u001b[0m\u001b[1;36m0\u001b[0m\u001b[1;33m:\u001b[0m\u001b[1;36m10\u001b[0m\u001b[1;33m]\u001b[0m\u001b[1;33m\u001b[0m\u001b[1;33m\u001b[0m\u001b[0m\n",
      "\u001b[1;31mNameError\u001b[0m: name 'v0' is not defined"
     ]
    }
   ],
   "source": [
    "ans = vqa_net(v0, q.unsqueeze(0), q_len.unsqueeze(0))\n",
    "ans.data.cpu()[0:10]"
   ]
  },
  {
   "cell_type": "code",
   "execution_count": 20,
   "metadata": {
    "colab": {
     "base_uri": "https://localhost:8080/",
     "height": 35
    },
    "id": "SjwByYgNEdPU",
    "outputId": "a05b4b91-c5ad-4e47-e536-eb7503269ffb"
   },
   "outputs": [
    {
     "ename": "NameError",
     "evalue": "name 'ans' is not defined",
     "output_type": "error",
     "traceback": [
      "\u001b[1;31m---------------------------------------------------------------------------\u001b[0m",
      "\u001b[1;31mNameError\u001b[0m                                 Traceback (most recent call last)",
      "\u001b[1;32m~\\AppData\\Local\\Temp/ipykernel_9996/1316083690.py\u001b[0m in \u001b[0;36m<module>\u001b[1;34m\u001b[0m\n\u001b[1;32m----> 1\u001b[1;33m \u001b[0m_\u001b[0m\u001b[1;33m,\u001b[0m \u001b[0manswer_idx\u001b[0m \u001b[1;33m=\u001b[0m \u001b[0mans\u001b[0m\u001b[1;33m.\u001b[0m\u001b[0mdata\u001b[0m\u001b[1;33m.\u001b[0m\u001b[0mcpu\u001b[0m\u001b[1;33m(\u001b[0m\u001b[1;33m)\u001b[0m\u001b[1;33m.\u001b[0m\u001b[0mmax\u001b[0m\u001b[1;33m(\u001b[0m\u001b[0mdim\u001b[0m\u001b[1;33m=\u001b[0m\u001b[1;36m1\u001b[0m\u001b[1;33m)\u001b[0m\u001b[1;33m\u001b[0m\u001b[1;33m\u001b[0m\u001b[0m\n\u001b[0m\u001b[0;32m      2\u001b[0m \u001b[0manswer_words\u001b[0m\u001b[1;33m[\u001b[0m \u001b[0manswer_idx\u001b[0m \u001b[1;33m]\u001b[0m\u001b[1;33m\u001b[0m\u001b[1;33m\u001b[0m\u001b[0m\n",
      "\u001b[1;31mNameError\u001b[0m: name 'ans' is not defined"
     ]
    }
   ],
   "source": [
    "_, answer_idx = ans.data.cpu().max(dim=1)\n",
    "answer_words[ answer_idx ]"
   ]
  },
  {
   "cell_type": "markdown",
   "metadata": {
    "id": "TgGl0IJrEdPU"
   },
   "source": [
    "### Let's systematise a little"
   ]
  },
  {
   "cell_type": "code",
   "execution_count": 21,
   "metadata": {
    "id": "J0yPPp0LEdPU"
   },
   "outputs": [],
   "source": [
    "def vqa_single_softmax(im_features, q_str):\n",
    "    q, q_len = encode_question(q_str)\n",
    "    ans = vqa_net(im_features, q.unsqueeze(0), q_len.unsqueeze(0))\n",
    "    return ans.data.cpu()\n",
    "\n",
    "def vqa(image_filename, question_arr):\n",
    "    plt.imshow(Image.open(image_filename).convert('RGB')); plt.show()    \n",
    "    image_features = resnet_layer4.image_to_features(image_filename)\n",
    "    for question_str in question_arr:\n",
    "        _, answer_idx = vqa_single_softmax(image_features, question_str).max(dim=1)\n",
    "        #print(question_str+\" -> \"+answer_words[ answer_idx ])\n",
    "        print((answer_words[ answer_idx ]+' '*8)[:8]+\" <- \"+question_str)  "
   ]
  },
  {
   "cell_type": "code",
   "execution_count": 22,
   "metadata": {
    "colab": {
     "base_uri": "https://localhost:8080/",
     "height": 380
    },
    "id": "ppynENhrEdPU",
    "outputId": "a6300ee2-8eb3-447a-e232-4eaf36139bf6"
   },
   "outputs": [
    {
     "name": "stdout",
     "output_type": "stream",
     "text": [
      "DOne\n"
     ]
    }
   ],
   "source": [
    "#image_idx = 1  # 6 \n",
    "\n",
    "#vqa(image_files[image_idx], [\n",
    "#    \"is there a cat in the picture\",\n",
    "#    \"is this a picture of a cat\",\n",
    "#    \"is the animal in the picture a cat or a dog\",\n",
    "#    \"what color is the cat\",\n",
    "#])\n",
    "print('DOne')"
   ]
  },
  {
   "cell_type": "markdown",
   "metadata": {
    "id": "emCjMmPSEdPV"
   },
   "source": [
    "### Now let's stress the model"
   ]
  },
  {
   "cell_type": "code",
   "execution_count": null,
   "metadata": {},
   "outputs": [],
   "source": []
  },
  {
   "cell_type": "markdown",
   "metadata": {
    "id": "Strduv2ZEdPV"
   },
   "source": [
    "#### Leave one word out "
   ]
  },
  {
   "cell_type": "code",
   "execution_count": 23,
   "metadata": {
    "id": "faNt1dlBEdPV"
   },
   "outputs": [],
   "source": [
    "def leave_one_out(image_filename, question_base):\n",
    "    plt.imshow(Image.open(image_filename).convert('RGB')); plt.show()    \n",
    "    image_features = resnet_layer4.image_to_features(image_filename)\n",
    "    question_arr = question_base.lower().split(' ')\n",
    "    for i, word_omit in enumerate(question_arr):\n",
    "        question_str = ' '.join( question_arr[:i]+question_arr[i+1:] )\n",
    "        score, answer_idx = vqa_single_softmax(image_features, question_str).max(dim=1)\n",
    "        #print(question_str+\" -> \"+answer_words[ answer_idx ])\n",
    "        print((answer_words[ answer_idx ]+' '*8)[:8]+\" <- \"+question_str)  #, score"
   ]
  },
  {
   "cell_type": "code",
   "execution_count": 24,
   "metadata": {
    "colab": {
     "base_uri": "https://localhost:8080/",
     "height": 390
    },
    "id": "ZDHHIXEQEdPV",
    "outputId": "748778aa-b6e1-4fa5-b07b-6f61cb845c9d"
   },
   "outputs": [
    {
     "ename": "NameError",
     "evalue": "name 'image_filename' is not defined",
     "output_type": "error",
     "traceback": [
      "\u001b[1;31m---------------------------------------------------------------------------\u001b[0m",
      "\u001b[1;31mNameError\u001b[0m                                 Traceback (most recent call last)",
      "\u001b[1;32m~\\AppData\\Local\\Temp/ipykernel_9996/1452939618.py\u001b[0m in \u001b[0;36m<module>\u001b[1;34m\u001b[0m\n\u001b[0;32m      2\u001b[0m \u001b[1;33m\u001b[0m\u001b[0m\n\u001b[0;32m      3\u001b[0m \u001b[1;31m#leave_one_out(image_files[image_idx], \"is there a cat in the picture\")  # mouse? dog?\u001b[0m\u001b[1;33m\u001b[0m\u001b[1;33m\u001b[0m\u001b[0m\n\u001b[1;32m----> 4\u001b[1;33m \u001b[0mleave_one_out\u001b[0m\u001b[1;33m(\u001b[0m\u001b[0mimage_filename\u001b[0m\u001b[1;33m,\u001b[0m\u001b[1;34m\"is there a cat in the picture\"\u001b[0m\u001b[1;33m)\u001b[0m\u001b[1;33m\u001b[0m\u001b[1;33m\u001b[0m\u001b[0m\n\u001b[0m",
      "\u001b[1;31mNameError\u001b[0m: name 'image_filename' is not defined"
     ]
    }
   ],
   "source": [
    "image_idx = 0\n",
    "\n",
    "#leave_one_out(image_files[image_idx], \"is there a cat in the picture\")  # mouse? dog?\n",
    "leave_one_out(image_filename,\"is there a cat in the picture\")"
   ]
  },
  {
   "cell_type": "markdown",
   "metadata": {
    "id": "NRSI8UdzEdPV"
   },
   "source": [
    "#### Leave all combos of words out ( think : Binary )"
   ]
  },
  {
   "cell_type": "code",
   "execution_count": 25,
   "metadata": {
    "id": "g3iQmaJpEdPV"
   },
   "outputs": [],
   "source": [
    "s=''\n",
    "q=''\n",
    "i=1\n",
    "def leave_out_combos(image_filename, question_base):\n",
    "    plt.imshow(Image.open(image_filename).convert('RGB')); plt.show()    \n",
    "    image_features = resnet_layer4.image_to_features(image_filename)\n",
    "    question_arr = question_base.lower().split(' ')\n",
    "    print('sssssssssss')\n",
    "    for i in range(2 ** len(question_arr)):\n",
    "        q_arr = [question_arr[j] for j in range(len(question_arr)) if (i & (2**j))==0 ]\n",
    "        question_str = ' '.join( q_arr )\n",
    "        _, answer_idx = vqa_single_softmax(image_features, question_str).max(dim=1)\n",
    "        print((answer_words[ answer_idx ]+' '*8)[:8]+\" <- \"+question_str)\n",
    "        if i==1:\n",
    "            s=str(answer_words[ answer_idx ])\n",
    "            q=str(question_str)\n",
    "            i==10\n",
    "        \n",
    "        \n",
    "    print(\"test {},{}\".format(s,q ))\n",
    "\n"
   ]
  },
  {
   "cell_type": "code",
   "execution_count": 1,
   "metadata": {
    "colab": {
     "base_uri": "https://localhost:8080/",
     "height": 1000
    },
    "id": "mAawiyWoEdPW",
    "outputId": "d1fa791a-3eaa-4d98-fd9b-00a5fe867b56"
   },
   "outputs": [
    {
     "ename": "SyntaxError",
     "evalue": "(unicode error) 'unicodeescape' codec can't decode bytes in position 2-3: truncated \\UXXXXXXXX escape (Temp/ipykernel_8380/611544692.py, line 6)",
     "output_type": "error",
     "traceback": [
      "\u001b[1;36m  File \u001b[1;32m\"C:\\Users\\varun\\AppData\\Local\\Temp/ipykernel_8380/611544692.py\"\u001b[1;36m, line \u001b[1;32m6\u001b[0m\n\u001b[1;33m    leave_out_combos(\"C:\\Users\\varun\\Desktop\\demo\\VQA\\VQA\\static\\images\\8.jpeg\", \"is women wearing a specticles in the picture\")\u001b[0m\n\u001b[1;37m                                                                               ^\u001b[0m\n\u001b[1;31mSyntaxError\u001b[0m\u001b[1;31m:\u001b[0m (unicode error) 'unicodeescape' codec can't decode bytes in position 2-3: truncated \\UXXXXXXXX escape\n"
     ]
    }
   ],
   "source": [
    "image_idx = 4\n",
    "\n",
    "leave_out_combos(image_files[image_idx], \"is there a cat in the picture\")\n",
    "leave_out_combos(image_files[image_idx], \"what color are cat's eyes\")\n",
    "leave_out_combos(image_files[image_idx], \"cat's eyes colour\")\n",
    "leave_out_combos(\"C:\\Users\\varun\\Desktop\\demo\\VQA\\VQA\\static\\images\\8.jpeg\", \"is women wearing a specticles in the picture\")\n"
   ]
  },
  {
   "cell_type": "code",
   "execution_count": 27,
   "metadata": {},
   "outputs": [
    {
     "name": "stdout",
     "output_type": "stream",
     "text": [
      " * Serving Flask app \"__main__\" (lazy loading)\n",
      " * Environment: production\n",
      "\u001b[31m   WARNING: This is a development server. Do not use it in a production deployment.\u001b[0m\n",
      "\u001b[2m   Use a production WSGI server instead.\u001b[0m\n",
      " * Debug mode: off\n"
     ]
    },
    {
     "name": "stderr",
     "output_type": "stream",
     "text": [
      " * Running on http://127.0.0.1:5000/ (Press CTRL+C to quit)\n",
      "[2022-01-03 20:13:50,255] ERROR in app: Exception on /getData [POST]\n",
      "Traceback (most recent call last):\n",
      "  File \"C:\\ProgramData\\Anaconda3\\lib\\site-packages\\flask\\app.py\", line 2447, in wsgi_app\n",
      "    response = self.full_dispatch_request()\n",
      "  File \"C:\\ProgramData\\Anaconda3\\lib\\site-packages\\flask\\app.py\", line 1952, in full_dispatch_request\n",
      "    rv = self.handle_user_exception(e)\n",
      "  File \"C:\\ProgramData\\Anaconda3\\lib\\site-packages\\flask\\app.py\", line 1821, in handle_user_exception\n",
      "    reraise(exc_type, exc_value, tb)\n",
      "  File \"C:\\ProgramData\\Anaconda3\\lib\\site-packages\\flask\\_compat.py\", line 39, in reraise\n",
      "    raise value\n",
      "  File \"C:\\ProgramData\\Anaconda3\\lib\\site-packages\\flask\\app.py\", line 1950, in full_dispatch_request\n",
      "    rv = self.dispatch_request()\n",
      "  File \"C:\\ProgramData\\Anaconda3\\lib\\site-packages\\flask\\app.py\", line 1936, in dispatch_request\n",
      "    return self.view_functions[rule.endpoint](**req.view_args)\n",
      "  File \"C:\\Users\\varun\\AppData\\Local\\Temp/ipykernel_9996/3326757124.py\", line 25, in getData\n",
      "    leave_out_combos(image, question)\n",
      "  File \"C:\\Users\\varun\\AppData\\Local\\Temp/ipykernel_9996/250407254.py\", line 5, in leave_out_combos\n",
      "    plt.imshow(Image.open(image_filename).convert('RGB')); plt.show()\n",
      "NameError: name 'Image' is not defined\n",
      "127.0.0.1 - - [03/Jan/2022 20:13:50] \"POST /getData HTTP/1.1\" 500 -\n"
     ]
    },
    {
     "name": "stdout",
     "output_type": "stream",
     "text": [
      "image and question \n"
     ]
    },
    {
     "name": "stderr",
     "output_type": "stream",
     "text": [
      "[2022-01-03 20:13:55,894] ERROR in app: Exception on /getData [POST]\n",
      "Traceback (most recent call last):\n",
      "  File \"C:\\ProgramData\\Anaconda3\\lib\\site-packages\\flask\\app.py\", line 2447, in wsgi_app\n",
      "    response = self.full_dispatch_request()\n",
      "  File \"C:\\ProgramData\\Anaconda3\\lib\\site-packages\\flask\\app.py\", line 1952, in full_dispatch_request\n",
      "    rv = self.handle_user_exception(e)\n",
      "  File \"C:\\ProgramData\\Anaconda3\\lib\\site-packages\\flask\\app.py\", line 1821, in handle_user_exception\n",
      "    reraise(exc_type, exc_value, tb)\n",
      "  File \"C:\\ProgramData\\Anaconda3\\lib\\site-packages\\flask\\_compat.py\", line 39, in reraise\n",
      "    raise value\n",
      "  File \"C:\\ProgramData\\Anaconda3\\lib\\site-packages\\flask\\app.py\", line 1950, in full_dispatch_request\n",
      "    rv = self.dispatch_request()\n",
      "  File \"C:\\ProgramData\\Anaconda3\\lib\\site-packages\\flask\\app.py\", line 1936, in dispatch_request\n",
      "    return self.view_functions[rule.endpoint](**req.view_args)\n",
      "  File \"C:\\Users\\varun\\AppData\\Local\\Temp/ipykernel_9996/3326757124.py\", line 25, in getData\n",
      "    leave_out_combos(image, question)\n",
      "  File \"C:\\Users\\varun\\AppData\\Local\\Temp/ipykernel_9996/250407254.py\", line 5, in leave_out_combos\n",
      "    plt.imshow(Image.open(image_filename).convert('RGB')); plt.show()\n",
      "NameError: name 'Image' is not defined\n",
      "127.0.0.1 - - [03/Jan/2022 20:13:55] \"POST /getData HTTP/1.1\" 500 -\n"
     ]
    },
    {
     "name": "stdout",
     "output_type": "stream",
     "text": [
      "image and question \n"
     ]
    },
    {
     "name": "stderr",
     "output_type": "stream",
     "text": [
      "[2022-01-03 20:14:18,494] ERROR in app: Exception on /getData [POST]\n",
      "Traceback (most recent call last):\n",
      "  File \"C:\\ProgramData\\Anaconda3\\lib\\site-packages\\flask\\app.py\", line 2447, in wsgi_app\n",
      "    response = self.full_dispatch_request()\n",
      "  File \"C:\\ProgramData\\Anaconda3\\lib\\site-packages\\flask\\app.py\", line 1952, in full_dispatch_request\n",
      "    rv = self.handle_user_exception(e)\n",
      "  File \"C:\\ProgramData\\Anaconda3\\lib\\site-packages\\flask\\app.py\", line 1821, in handle_user_exception\n",
      "    reraise(exc_type, exc_value, tb)\n",
      "  File \"C:\\ProgramData\\Anaconda3\\lib\\site-packages\\flask\\_compat.py\", line 39, in reraise\n",
      "    raise value\n",
      "  File \"C:\\ProgramData\\Anaconda3\\lib\\site-packages\\flask\\app.py\", line 1950, in full_dispatch_request\n",
      "    rv = self.dispatch_request()\n",
      "  File \"C:\\ProgramData\\Anaconda3\\lib\\site-packages\\flask\\app.py\", line 1936, in dispatch_request\n",
      "    return self.view_functions[rule.endpoint](**req.view_args)\n",
      "  File \"C:\\Users\\varun\\AppData\\Local\\Temp/ipykernel_9996/3326757124.py\", line 25, in getData\n",
      "    leave_out_combos(image, question)\n",
      "  File \"C:\\Users\\varun\\AppData\\Local\\Temp/ipykernel_9996/250407254.py\", line 5, in leave_out_combos\n",
      "    plt.imshow(Image.open(image_filename).convert('RGB')); plt.show()\n",
      "NameError: name 'Image' is not defined\n",
      "127.0.0.1 - - [03/Jan/2022 20:14:18] \"POST /getData HTTP/1.1\" 500 -\n"
     ]
    },
    {
     "name": "stdout",
     "output_type": "stream",
     "text": [
      "image and question \n"
     ]
    },
    {
     "name": "stderr",
     "output_type": "stream",
     "text": [
      "127.0.0.1 - - [03/Jan/2022 20:14:37] \"GET / HTTP/1.1\" 200 -\n",
      "[2022-01-03 20:14:52,926] ERROR in app: Exception on /getData [POST]\n",
      "Traceback (most recent call last):\n",
      "  File \"C:\\ProgramData\\Anaconda3\\lib\\site-packages\\flask\\app.py\", line 2447, in wsgi_app\n",
      "    response = self.full_dispatch_request()\n",
      "  File \"C:\\ProgramData\\Anaconda3\\lib\\site-packages\\flask\\app.py\", line 1952, in full_dispatch_request\n",
      "    rv = self.handle_user_exception(e)\n",
      "  File \"C:\\ProgramData\\Anaconda3\\lib\\site-packages\\flask\\app.py\", line 1821, in handle_user_exception\n",
      "    reraise(exc_type, exc_value, tb)\n",
      "  File \"C:\\ProgramData\\Anaconda3\\lib\\site-packages\\flask\\_compat.py\", line 39, in reraise\n",
      "    raise value\n",
      "  File \"C:\\ProgramData\\Anaconda3\\lib\\site-packages\\flask\\app.py\", line 1950, in full_dispatch_request\n",
      "    rv = self.dispatch_request()\n",
      "  File \"C:\\ProgramData\\Anaconda3\\lib\\site-packages\\flask\\app.py\", line 1936, in dispatch_request\n",
      "    return self.view_functions[rule.endpoint](**req.view_args)\n",
      "  File \"C:\\Users\\varun\\AppData\\Local\\Temp/ipykernel_9996/3326757124.py\", line 25, in getData\n",
      "    leave_out_combos(image, question)\n",
      "  File \"C:\\Users\\varun\\AppData\\Local\\Temp/ipykernel_9996/250407254.py\", line 5, in leave_out_combos\n",
      "    plt.imshow(Image.open(image_filename).convert('RGB')); plt.show()\n",
      "NameError: name 'Image' is not defined\n",
      "127.0.0.1 - - [03/Jan/2022 20:14:52] \"POST /getData HTTP/1.1\" 500 -\n"
     ]
    },
    {
     "name": "stdout",
     "output_type": "stream",
     "text": [
      "image and question http://127.0.0.1:5000/static/images/8.jpeg\n"
     ]
    },
    {
     "name": "stderr",
     "output_type": "stream",
     "text": [
      "127.0.0.1 - - [03/Jan/2022 20:15:15] \"GET / HTTP/1.1\" 200 -\n",
      "[2022-01-03 20:15:35,243] ERROR in app: Exception on /getData [POST]\n",
      "Traceback (most recent call last):\n",
      "  File \"C:\\ProgramData\\Anaconda3\\lib\\site-packages\\flask\\app.py\", line 2447, in wsgi_app\n",
      "    response = self.full_dispatch_request()\n",
      "  File \"C:\\ProgramData\\Anaconda3\\lib\\site-packages\\flask\\app.py\", line 1952, in full_dispatch_request\n",
      "    rv = self.handle_user_exception(e)\n",
      "  File \"C:\\ProgramData\\Anaconda3\\lib\\site-packages\\flask\\app.py\", line 1821, in handle_user_exception\n",
      "    reraise(exc_type, exc_value, tb)\n",
      "  File \"C:\\ProgramData\\Anaconda3\\lib\\site-packages\\flask\\_compat.py\", line 39, in reraise\n",
      "    raise value\n",
      "  File \"C:\\ProgramData\\Anaconda3\\lib\\site-packages\\flask\\app.py\", line 1950, in full_dispatch_request\n",
      "    rv = self.dispatch_request()\n",
      "  File \"C:\\ProgramData\\Anaconda3\\lib\\site-packages\\flask\\app.py\", line 1936, in dispatch_request\n",
      "    return self.view_functions[rule.endpoint](**req.view_args)\n",
      "  File \"C:\\Users\\varun\\AppData\\Local\\Temp/ipykernel_9996/3326757124.py\", line 25, in getData\n",
      "    leave_out_combos(image, question)\n",
      "  File \"C:\\Users\\varun\\AppData\\Local\\Temp/ipykernel_9996/250407254.py\", line 5, in leave_out_combos\n",
      "    plt.imshow(Image.open(image_filename).convert('RGB')); plt.show()\n",
      "NameError: name 'Image' is not defined\n",
      "127.0.0.1 - - [03/Jan/2022 20:15:35] \"POST /getData HTTP/1.1\" 500 -\n"
     ]
    },
    {
     "name": "stdout",
     "output_type": "stream",
     "text": [
      "image and question http://127.0.0.1:5000/static/images/7.jpg\n"
     ]
    },
    {
     "name": "stderr",
     "output_type": "stream",
     "text": [
      "127.0.0.1 - - [03/Jan/2022 20:15:46] \"GET / HTTP/1.1\" 200 -\n",
      "[2022-01-03 20:16:21,897] ERROR in app: Exception on /getData [POST]\n",
      "Traceback (most recent call last):\n",
      "  File \"C:\\ProgramData\\Anaconda3\\lib\\site-packages\\flask\\app.py\", line 2447, in wsgi_app\n",
      "    response = self.full_dispatch_request()\n",
      "  File \"C:\\ProgramData\\Anaconda3\\lib\\site-packages\\flask\\app.py\", line 1952, in full_dispatch_request\n",
      "    rv = self.handle_user_exception(e)\n",
      "  File \"C:\\ProgramData\\Anaconda3\\lib\\site-packages\\flask\\app.py\", line 1821, in handle_user_exception\n",
      "    reraise(exc_type, exc_value, tb)\n",
      "  File \"C:\\ProgramData\\Anaconda3\\lib\\site-packages\\flask\\_compat.py\", line 39, in reraise\n",
      "    raise value\n",
      "  File \"C:\\ProgramData\\Anaconda3\\lib\\site-packages\\flask\\app.py\", line 1950, in full_dispatch_request\n",
      "    rv = self.dispatch_request()\n",
      "  File \"C:\\ProgramData\\Anaconda3\\lib\\site-packages\\flask\\app.py\", line 1936, in dispatch_request\n",
      "    return self.view_functions[rule.endpoint](**req.view_args)\n",
      "  File \"C:\\Users\\varun\\AppData\\Local\\Temp/ipykernel_9996/3326757124.py\", line 25, in getData\n",
      "    leave_out_combos(image, question)\n",
      "  File \"C:\\Users\\varun\\AppData\\Local\\Temp/ipykernel_9996/250407254.py\", line 5, in leave_out_combos\n",
      "    plt.imshow(Image.open(image_filename).convert('RGB')); plt.show()\n",
      "NameError: name 'Image' is not defined\n",
      "127.0.0.1 - - [03/Jan/2022 20:16:21] \"POST /getData HTTP/1.1\" 500 -\n"
     ]
    },
    {
     "name": "stdout",
     "output_type": "stream",
     "text": [
      "image and question http://127.0.0.1:5000/static/images/7.jpg\n"
     ]
    },
    {
     "name": "stderr",
     "output_type": "stream",
     "text": [
      "127.0.0.1 - - [03/Jan/2022 20:17:12] \"GET / HTTP/1.1\" 200 -\n",
      "[2022-01-03 20:17:30,281] ERROR in app: Exception on /getData [POST]\n",
      "Traceback (most recent call last):\n",
      "  File \"C:\\ProgramData\\Anaconda3\\lib\\site-packages\\flask\\app.py\", line 2447, in wsgi_app\n",
      "    response = self.full_dispatch_request()\n",
      "  File \"C:\\ProgramData\\Anaconda3\\lib\\site-packages\\flask\\app.py\", line 1952, in full_dispatch_request\n",
      "    rv = self.handle_user_exception(e)\n",
      "  File \"C:\\ProgramData\\Anaconda3\\lib\\site-packages\\flask\\app.py\", line 1821, in handle_user_exception\n",
      "    reraise(exc_type, exc_value, tb)\n",
      "  File \"C:\\ProgramData\\Anaconda3\\lib\\site-packages\\flask\\_compat.py\", line 39, in reraise\n",
      "    raise value\n",
      "  File \"C:\\ProgramData\\Anaconda3\\lib\\site-packages\\flask\\app.py\", line 1950, in full_dispatch_request\n",
      "    rv = self.dispatch_request()\n",
      "  File \"C:\\ProgramData\\Anaconda3\\lib\\site-packages\\flask\\app.py\", line 1936, in dispatch_request\n",
      "    return self.view_functions[rule.endpoint](**req.view_args)\n",
      "  File \"C:\\Users\\varun\\AppData\\Local\\Temp/ipykernel_9996/3326757124.py\", line 25, in getData\n",
      "    leave_out_combos(image, question)\n",
      "  File \"C:\\Users\\varun\\AppData\\Local\\Temp/ipykernel_9996/250407254.py\", line 5, in leave_out_combos\n",
      "    plt.imshow(Image.open(image_filename).convert('RGB')); plt.show()\n",
      "NameError: name 'Image' is not defined\n",
      "127.0.0.1 - - [03/Jan/2022 20:17:30] \"POST /getData HTTP/1.1\" 500 -\n"
     ]
    },
    {
     "name": "stdout",
     "output_type": "stream",
     "text": [
      "image and question http://127.0.0.1:5000/static/images/7.jpg\n"
     ]
    }
   ],
   "source": [
    "import os, sys\n",
    "\n",
    "from matplotlib import pyplot as plt\n",
    "\n",
    "import warnings\n",
    "warnings.filterwarnings(\"ignore\", category=UserWarning) # Cleaner demos : Don't do this normally...\n",
    "\n",
    "\n",
    "from flask import Flask, render_template, url_for, request, Response\n",
    "from werkzeug.utils import secure_filename\n",
    "\n",
    "\n",
    "app = Flask(__name__)\n",
    "\n",
    "@app.route('/', methods=['GET', 'POST'])\n",
    "def index():\n",
    "    return render_template('index.html')\n",
    "\n",
    "@app.route('/getData', methods=['GET', 'POST'])\n",
    "def getData():\n",
    "    if request.method == 'POST':\n",
    "        image = request.form['file']\n",
    "        question = request.form['question']\n",
    "        print('image and question {}'.format(image,question))\n",
    "        leave_out_combos(image, question)\n",
    "        return render_template('index.html', inputImage=image,ans=\"{}, {}\".format(s,q), qn=question)\n",
    "\n",
    "\n",
    "if __name__ == \"__main__\":\n",
    "    app.run(debug=False)"
   ]
  },
  {
   "cell_type": "markdown",
   "metadata": {
    "id": "EpIx1s79EdPW"
   },
   "source": [
    "#### Iteratively, leave out the word that is 'weakest'"
   ]
  },
  {
   "cell_type": "code",
   "execution_count": 28,
   "metadata": {
    "id": "dWpQ5ZpUEdPW"
   },
   "outputs": [],
   "source": [
    "def leave_out_best(image_filename, question_base):\n",
    "    plt.imshow(Image.open(image_filename).convert('RGB')); plt.show()    \n",
    "    image_features = resnet_layer4.image_to_features(image_filename)\n",
    "    _, answer_true = vqa_single_softmax(image_features, question_base).max(dim=1)\n",
    "    print((answer_words[ answer_true ]+' '*8)[:8]+\" <- \"+question_base)\n",
    "    print()\n",
    "    while True:\n",
    "        question_arr = question_base.lower().split(' ')\n",
    "        score_best, q_best = None, ''\n",
    "        for i, word_omit in enumerate(question_arr):\n",
    "            question_str = ' '.join( question_arr[:i]+question_arr[i+1:] )\n",
    "            score, answer_idx = vqa_single_softmax(image_features, question_str).max(dim=1)\n",
    "            if answer_idx==answer_true:\n",
    "                print((answer_words[ answer_idx ]+' '*8)[:8]+\" <- \"+question_str+\"/n\")  #, score        \n",
    "                if (score_best is None or score>score_best):\n",
    "                    score_best, question_base = score, question_str\n",
    "        print()\n",
    "        if score_best is None or len(question_base)==0: break"
   ]
  },
  {
   "cell_type": "code",
   "execution_count": null,
   "metadata": {},
   "outputs": [],
   "source": []
  },
  {
   "cell_type": "code",
   "execution_count": 29,
   "metadata": {
    "colab": {
     "base_uri": "https://localhost:8080/",
     "height": 911
    },
    "id": "-YqAx5ZiEdPW",
    "outputId": "bf9005c9-3dc1-4b3e-ec14-1e5ccf7d969e",
    "scrolled": true
   },
   "outputs": [
    {
     "ename": "NameError",
     "evalue": "name 'image_files' is not defined",
     "output_type": "error",
     "traceback": [
      "\u001b[1;31m---------------------------------------------------------------------------\u001b[0m",
      "\u001b[1;31mNameError\u001b[0m                                 Traceback (most recent call last)",
      "\u001b[1;32m~\\AppData\\Local\\Temp/ipykernel_9996/1008588841.py\u001b[0m in \u001b[0;36m<module>\u001b[1;34m\u001b[0m\n\u001b[0;32m      1\u001b[0m \u001b[0mimage_idx\u001b[0m \u001b[1;33m=\u001b[0m \u001b[1;36m3\u001b[0m\u001b[1;33m\u001b[0m\u001b[1;33m\u001b[0m\u001b[0m\n\u001b[0;32m      2\u001b[0m \u001b[1;33m\u001b[0m\u001b[0m\n\u001b[1;32m----> 3\u001b[1;33m \u001b[0mleave_out_best\u001b[0m\u001b[1;33m(\u001b[0m\u001b[0mimage_files\u001b[0m\u001b[1;33m[\u001b[0m\u001b[0mimage_idx\u001b[0m\u001b[1;33m]\u001b[0m\u001b[1;33m,\u001b[0m \u001b[1;34m\"is there a cat in the picture\"\u001b[0m\u001b[1;33m)\u001b[0m\u001b[1;33m\u001b[0m\u001b[1;33m\u001b[0m\u001b[0m\n\u001b[0m",
      "\u001b[1;31mNameError\u001b[0m: name 'image_files' is not defined"
     ]
    }
   ],
   "source": [
    "image_idx = 3\n",
    "\n",
    "leave_out_best(image_files[image_idx], \"is there a cat in the picture\")"
   ]
  },
  {
   "cell_type": "code",
   "execution_count": null,
   "metadata": {
    "id": "pss4d36NEdPW"
   },
   "outputs": [],
   "source": [
    "image_idx = 3\n",
    "\n",
    "leave_out_best(image_files[image_idx], \"is there a grass\")"
   ]
  },
  {
   "cell_type": "code",
   "execution_count": null,
   "metadata": {},
   "outputs": [],
   "source": [
    "image_idx = 3\n",
    "\n",
    "leave_out_best(image_files[image_idx], \"what is the cats colour?\")"
   ]
  },
  {
   "cell_type": "code",
   "execution_count": null,
   "metadata": {},
   "outputs": [],
   "source": [
    "image_idx = 3\n",
    "\n",
    "#leave_out_best(image_files[image_idx], \"is there a cat in the picture?\")\n",
    "leave_out_best('C:\\Users\\varun\\Desktop\\demo\\VQA\\VQA\\static\\images\\8.jpeg', \"what sport it is \")"
   ]
  },
  {
   "cell_type": "code",
   "execution_count": null,
   "metadata": {},
   "outputs": [],
   "source": []
  },
  {
   "cell_type": "code",
   "execution_count": null,
   "metadata": {},
   "outputs": [],
   "source": []
  },
  {
   "cell_type": "code",
   "execution_count": null,
   "metadata": {},
   "outputs": [],
   "source": []
  },
  {
   "cell_type": "code",
   "execution_count": null,
   "metadata": {},
   "outputs": [],
   "source": []
  },
  {
   "cell_type": "code",
   "execution_count": null,
   "metadata": {},
   "outputs": [],
   "source": []
  },
  {
   "cell_type": "code",
   "execution_count": null,
   "metadata": {},
   "outputs": [],
   "source": []
  },
  {
   "cell_type": "code",
   "execution_count": null,
   "metadata": {},
   "outputs": [],
   "source": []
  },
  {
   "cell_type": "code",
   "execution_count": null,
   "metadata": {},
   "outputs": [],
   "source": []
  },
  {
   "cell_type": "code",
   "execution_count": null,
   "metadata": {},
   "outputs": [],
   "source": []
  }
 ],
 "metadata": {
  "colab": {
   "name": "VQA_playground.ipynb",
   "provenance": []
  },
  "kernelspec": {
   "display_name": "Python 3 (ipykernel)",
   "language": "python",
   "name": "python3"
  },
  "language_info": {
   "codemirror_mode": {
    "name": "ipython",
    "version": 3
   },
   "file_extension": ".py",
   "mimetype": "text/x-python",
   "name": "python",
   "nbconvert_exporter": "python",
   "pygments_lexer": "ipython3",
   "version": "3.9.7"
  }
 },
 "nbformat": 4,
 "nbformat_minor": 1
}
